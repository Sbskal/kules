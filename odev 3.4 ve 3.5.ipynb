{
 "cells": [
  {
   "cell_type": "code",
   "execution_count": 1,
   "metadata": {},
   "outputs": [],
   "source": [
    "haziran=30\n",
    "temmuz=31\n",
    "agustos=31\n",
    "\n",
    "\n",
    "\n",
    "Yaz=[haziran,temmuz,agustos]\n",
    "Kış=[\"Aralık\",\"Ocak\",\"Şubat\"]\n",
    "ilkbahar=[\"Mart\",\"Nisan\",\"Mayıs\"]\n",
    "sonbahar=[\"Eylül\",\"Ekim\",\"Kasım\"]\n",
    "\n",
    "toplam=yaz[0]\n"
   ]
  },
  {
   "cell_type": "code",
   "execution_count": null,
   "metadata": {},
   "outputs": [],
   "source": []
  }
 ],
 "metadata": {
  "kernelspec": {
   "display_name": "Python 3",
   "language": "python",
   "name": "python3"
  },
  "language_info": {
   "codemirror_mode": {
    "name": "ipython",
    "version": 3
   },
   "file_extension": ".py",
   "mimetype": "text/x-python",
   "name": "python",
   "nbconvert_exporter": "python",
   "pygments_lexer": "ipython3",
   "version": "3.7.4"
  }
 },
 "nbformat": 4,
 "nbformat_minor": 2
}
