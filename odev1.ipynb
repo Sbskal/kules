{
 "cells": [
  {
   "cell_type": "code",
   "execution_count": 5,
   "metadata": {},
   "outputs": [
    {
     "name": "stdout",
     "output_type": "stream",
     "text": [
      "Bir hafta sonundaki paranız: 2210 $\n"
     ]
    }
   ],
   "source": [
    "kazanc=12/100\n",
    "para=1000\n",
    "\n",
    "bir=para+para*kazanc\n",
    "iki=bir+bir*kazanc\n",
    "uc=iki+iki*kazanc\n",
    "dort=uc+uc*kazanc\n",
    "bes=dort+dort*kazanc\n",
    "alti=bes+bes*kazanc\n",
    "yedi=alti+alti*kazanc\n",
    "\n",
    "print(\"Bir hafta sonundaki paranız:\",int(yedi),\"$\")\n",
    "\n"
   ]
  },
  {
   "cell_type": "code",
   "execution_count": null,
   "metadata": {},
   "outputs": [],
   "source": []
  }
 ],
 "metadata": {
  "kernelspec": {
   "display_name": "Python 3",
   "language": "python",
   "name": "python3"
  },
  "language_info": {
   "codemirror_mode": {
    "name": "ipython",
    "version": 3
   },
   "file_extension": ".py",
   "mimetype": "text/x-python",
   "name": "python",
   "nbconvert_exporter": "python",
   "pygments_lexer": "ipython3",
   "version": "3.7.4"
  }
 },
 "nbformat": 4,
 "nbformat_minor": 2
}
